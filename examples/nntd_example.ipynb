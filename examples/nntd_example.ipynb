{
 "cells": [
  {
   "cell_type": "code",
   "execution_count": 1,
   "id": "1629d3e3-899a-4822-bd8d-b62cd908102d",
   "metadata": {
    "executionInfo": {
     "elapsed": 6761,
     "status": "ok",
     "timestamp": 1677259180053,
     "user": {
      "displayName": "David MacNeill",
      "userId": "16000624551933406948"
     },
     "user_tz": 300
    },
    "id": "1629d3e3-899a-4822-bd8d-b62cd908102d"
   },
   "outputs": [],
   "source": [
    "import random\n",
    "import json\n",
    "from copy import deepcopy\n",
    "import numpy as np\n",
    "import matplotlib.pyplot as plt\n",
    "import xgboost\n",
    "import torch\n",
    "import optuna\n",
    "import sklearn.datasets\n",
    "import sklearn.metrics\n",
    "import sklearn.preprocessing\n",
    "import sklearn.model_selection\n",
    "import nntd"
   ]
  },
  {
   "cell_type": "markdown",
   "id": "34c60876-d2b8-4883-8003-4415e2f501bc",
   "metadata": {
    "id": "34c60876-d2b8-4883-8003-4415e2f501bc"
   },
   "source": [
    "### Global Vars"
   ]
  },
  {
   "cell_type": "code",
   "execution_count": 2,
   "id": "127e8027-e05c-442d-b018-bf59da211b41",
   "metadata": {
    "executionInfo": {
     "elapsed": 1,
     "status": "ok",
     "timestamp": 1677259180053,
     "user": {
      "displayName": "David MacNeill",
      "userId": "16000624551933406948"
     },
     "user_tz": 300
    },
    "id": "127e8027-e05c-442d-b018-bf59da211b41"
   },
   "outputs": [],
   "source": [
    "storage_device = torch.device(0)\n",
    "training_device = torch.device(0)\n",
    "seed = 2319\n",
    "#Needed for notebook reproducibility, nntd.pipeline depends on global seeds\n",
    "torch.backends.cudnn.benchmark = False \n",
    "torch.backends.cudnn.deterministic = True\n",
    "torch.manual_seed(seed)\n",
    "torch.cuda.manual_seed(seed+1)\n",
    "np.random.seed(seed+2)\n",
    "random.seed(seed+3)"
   ]
  },
  {
   "cell_type": "code",
   "execution_count": 3,
   "id": "99f027ec-b9b1-4283-8175-1f249c59f378",
   "metadata": {},
   "outputs": [],
   "source": [
    "xgb_hyperparameters_path = 'hyperparameters/example/XGBoost_example_builtin.json'\n",
    "nn_hyperparameters_path = 'hyperparameters/example/ResNet_PLE_example_augmentation.json'"
   ]
  },
  {
   "cell_type": "markdown",
   "id": "2c0af51b-5aa4-475c-9d46-32ff3c19c46b",
   "metadata": {
    "id": "2c0af51b-5aa4-475c-9d46-32ff3c19c46b"
   },
   "source": [
    "### Load CA Housing dataset and make splits"
   ]
  },
  {
   "cell_type": "code",
   "execution_count": 4,
   "id": "3c8313ce-175f-406d-8547-32c6a34d9dbf",
   "metadata": {
    "executionInfo": {
     "elapsed": 8597,
     "status": "ok",
     "timestamp": 1677259188649,
     "user": {
      "displayName": "David MacNeill",
      "userId": "16000624551933406948"
     },
     "user_tz": 300
    },
    "id": "3c8313ce-175f-406d-8547-32c6a34d9dbf"
   },
   "outputs": [],
   "source": [
    "task = 'regression'\n",
    "dataset = sklearn.datasets.fetch_california_housing()"
   ]
  },
  {
   "cell_type": "code",
   "execution_count": 5,
   "id": "43777f56-d187-4099-8943-cf298e32e8fb",
   "metadata": {},
   "outputs": [],
   "source": [
    "X_dict = {}\n",
    "y_dict = {}\n",
    "X_dict['train'], X_dict['test'], y_dict['train'], y_dict['test'] =\\\n",
    "sklearn.model_selection.train_test_split(\n",
    "    dataset['data'].astype('float32'),\n",
    "    dataset['target'].astype('float32'),\n",
    "    train_size = 0.8,\n",
    "    random_state = seed,\n",
    ")\n",
    "X_dict['train'], X_dict['val'], y_dict['train'], y_dict['val'] =\\\n",
    "sklearn.model_selection.train_test_split(\n",
    "    X_dict['train'],\n",
    "    y_dict['train'],\n",
    "    train_size = 0.8,\n",
    "    random_state = seed+1,\n",
    ")"
   ]
  },
  {
   "cell_type": "markdown",
   "id": "ceb4b88b-a954-4d09-8143-5923592ab05a",
   "metadata": {},
   "source": [
    "### Add some NaNs"
   ]
  },
  {
   "cell_type": "code",
   "execution_count": 6,
   "id": "614b9fca-8b87-4b71-a845-c3bd51add6a6",
   "metadata": {},
   "outputs": [],
   "source": [
    "p_nan = 0.1\n",
    "lat_long_idx = [6, 7]#exclude the latitdue and longitude features\n",
    "rng = np.random.default_rng(seed)\n",
    "for k, v in X_dict.items():\n",
    "    nan_mask = rng.uniform(0, 1, v.shape)<p_nan\n",
    "    nan_mask[:, lat_long_idx]=False\n",
    "    np.putmask(v, nan_mask, np.nan)"
   ]
  },
  {
   "cell_type": "markdown",
   "id": "441728dc-898b-4471-98f0-8b268c41539c",
   "metadata": {
    "id": "441728dc-898b-4471-98f0-8b268c41539c"
   },
   "source": [
    "### Preprocessing + dataset creation"
   ]
  },
  {
   "cell_type": "code",
   "execution_count": 7,
   "id": "c4c72778-a7e0-47ec-82e1-878b0e31eaa4",
   "metadata": {
    "executionInfo": {
     "elapsed": 10,
     "status": "ok",
     "timestamp": 1677259188650,
     "user": {
      "displayName": "David MacNeill",
      "userId": "16000624551933406948"
     },
     "user_tz": 300
    },
    "id": "c4c72778-a7e0-47ec-82e1-878b0e31eaa4"
   },
   "outputs": [],
   "source": [
    "if task=='regression':\n",
    "    y_mean = y_dict['train'].mean()\n",
    "    y_std = y_dict['train'].std()\n",
    "    y_dict = {k: (v - y_mean) / y_std for k, v in y_dict.items()}"
   ]
  },
  {
   "cell_type": "code",
   "execution_count": 8,
   "id": "dcfffd63-47c4-4b76-a727-9c104e062334",
   "metadata": {
    "executionInfo": {
     "elapsed": 8780,
     "status": "ok",
     "timestamp": 1677259197420,
     "user": {
      "displayName": "David MacNeill",
      "userId": "16000624551933406948"
     },
     "user_tz": 300
    },
    "id": "dcfffd63-47c4-4b76-a727-9c104e062334"
   },
   "outputs": [],
   "source": [
    "#Quantile transform for numerical features\n",
    "qt = sklearn.preprocessing.QuantileTransformer(random_state = seed).fit(X_dict['train'])\n",
    "train_dataset = nntd.TabularDataset(\n",
    "    X_num = qt.transform(X_dict['train']),\n",
    "    X_cat = None,\n",
    "    y = y_dict['train'],\n",
    "    cardinalities = [],\n",
    "    device = storage_device,\n",
    ")\n",
    "val_dataset, test_dataset = [\n",
    "    nntd.TabularDataset(\n",
    "        X_num = qt.transform(X_dict[part]),\n",
    "        X_cat = None,\n",
    "        y = y_dict[part],\n",
    "        cardinalities = [],\n",
    "        device = storage_device,\n",
    "    )\n",
    "    for part in ['val', 'test']\n",
    "]\n",
    "#This dataset has no categoricals. Any categoricals are passed as X_cat above. The values need to be ints from 0 to n_classes-1.\n",
    "#The cardinalities argument should be a list [n_1, n_2, ...] where n_i is the number of classes of categorical feature i"
   ]
  },
  {
   "cell_type": "code",
   "execution_count": 9,
   "id": "ce0435a0-3d87-433a-b603-3422ae78450f",
   "metadata": {},
   "outputs": [],
   "source": [
    "#DMatrix for XGBoost baseline\n",
    "d_dict = {k:xgboost.DMatrix(v, label = y_dict[k]) for k,v in X_dict.items()}"
   ]
  },
  {
   "cell_type": "markdown",
   "id": "135de445-8818-41b8-adf4-30f6ed4e1cc2",
   "metadata": {
    "id": "135de445-8818-41b8-adf4-30f6ed4e1cc2"
   },
   "source": [
    "### Evaluation Functions"
   ]
  },
  {
   "cell_type": "code",
   "execution_count": 10,
   "id": "7cb4a437-f3ab-4ea0-924f-b5e661503ad7",
   "metadata": {
    "executionInfo": {
     "elapsed": 17,
     "status": "ok",
     "timestamp": 1677259197421,
     "user": {
      "displayName": "David MacNeill",
      "userId": "16000624551933406948"
     },
     "user_tz": 300
    },
    "id": "7cb4a437-f3ab-4ea0-924f-b5e661503ad7"
   },
   "outputs": [],
   "source": [
    "if task=='binclass':\n",
    "    val_metric = lambda y, yhat: sklearn.metrics.log_loss(y, yhat, eps = 1e-6)\n",
    "    display_metric = lambda y, yhat: sklearn.metrics.roc_auc_score(y, yhat)\n",
    "elif task=='regression':\n",
    "    val_metric = lambda y, yhat: sklearn.metrics.mean_squared_error(y, yhat)\n",
    "    display_metric = lambda y, yhat: y_std*np.sqrt(np.mean((yhat-y)**2))"
   ]
  },
  {
   "cell_type": "markdown",
   "id": "b4856c0d-b021-49ba-9856-861a4574fac9",
   "metadata": {
    "id": "b4856c0d-b021-49ba-9856-861a4574fac9"
   },
   "source": [
    "### XGBoost Baseline"
   ]
  },
  {
   "cell_type": "code",
   "execution_count": 11,
   "id": "ee8c8291-146d-4a95-ad96-e634f12ac6e7",
   "metadata": {},
   "outputs": [],
   "source": [
    "def params_from_trial(trial):\n",
    "    hyperparameters = {\n",
    "        'params':{\n",
    "            'objective':'binary:logistic' if task=='binclass' else 'reg:squarederror',\n",
    "            'learning_rate':trial.suggest_float('learning_rate', 0.005, 0.3, log = True),\n",
    "            'max_depth':trial.suggest_int('max_depth', 3, 10),\n",
    "            'lambda':trial.suggest_float('lambda', 1e-3, 1e2, log=True),\n",
    "            'gamma':trial.suggest_float('gamma', 1e-3, 1e2, log=True),\n",
    "            'subsample':trial.suggest_float('subsample', 0.4, 1.0),\n",
    "            'colsample_bytree':trial.suggest_float('colsample_bytree', 0.4, 1.0),\n",
    "            'min_child_weight':trial.suggest_float('min_child_weight', 1, 1e2),\n",
    "            'tree_method':'gpu_hist',\n",
    "            'seed':seed,\n",
    "            'eval_metric':'logloss',\n",
    "        },\n",
    "        'num_boost_round':2000,\n",
    "        #'early_stopping_rounds':100,\n",
    "    }\n",
    "    return hyperparameters\n",
    "\n",
    "def objective(trial):\n",
    "    hyperparameters = params_from_trial(trial)\n",
    "    bst = xgboost.train(\n",
    "        hyperparameters['params'],\n",
    "        d_dict['train'],\n",
    "        num_boost_round = hyperparameters['num_boost_round'],\n",
    "        #early_stopping_rounds = params['early_stopping_rounds'],\n",
    "        #evals = [(d_dict['val'], 'eval')],\n",
    "        #verbose_eval = False,\n",
    "    )\n",
    "    score = val_metric(y_dict['val'], bst.predict(d_dict['val']))\n",
    "    return score\n",
    "\n",
    "#Uncomment to run hyperparameter optimization\n",
    "#study = optuna.create_study(direction='minimize', study_name='XGBoost')\n",
    "#study.optimize(objective, n_trials=100)\n",
    "#xgb_hyperparameters = params_from_trial(study.best_trial)\n",
    "with open(xgb_hyperparameters_path, 'r') as file:\n",
    "    xgb_hyperparameters = json.load(file)"
   ]
  },
  {
   "cell_type": "code",
   "execution_count": 12,
   "id": "_iwa6J34TAYt",
   "metadata": {
    "executionInfo": {
     "elapsed": 16,
     "status": "ok",
     "timestamp": 1677259197422,
     "user": {
      "displayName": "David MacNeill",
      "userId": "16000624551933406948"
     },
     "user_tz": 300
    },
    "id": "_iwa6J34TAYt"
   },
   "outputs": [
    {
     "name": "stdout",
     "output_type": "stream",
     "text": [
      "0.46585992\n"
     ]
    }
   ],
   "source": [
    "bst = xgboost.train(\n",
    "    xgb_hyperparameters['params'],\n",
    "    d_dict['train'],\n",
    "    num_boost_round = xgb_hyperparameters['num_boost_round'],\n",
    ")\n",
    "print(display_metric(y_dict['val'], bst.predict(d_dict['val'])))"
   ]
  },
  {
   "cell_type": "markdown",
   "id": "009bd050-91c9-400c-b360-6af223d9643c",
   "metadata": {
    "id": "009bd050-91c9-400c-b360-6af223d9643c"
   },
   "source": [
    "### ResNet"
   ]
  },
  {
   "cell_type": "markdown",
   "id": "defa19b8-3091-46bd-ba85-7fd4919d4378",
   "metadata": {},
   "source": [
    "### Unified Optimization"
   ]
  },
  {
   "cell_type": "code",
   "execution_count": 13,
   "id": "b0e44dbc-c875-47c6-834a-8b3c127fb1f1",
   "metadata": {},
   "outputs": [],
   "source": [
    "def params_from_trial(trial):\n",
    "    model_params = {\n",
    "    'encoder_name':'PiecewiseLinearEncoder',\n",
    "    'encoder_params':{\n",
    "        'd_encoding':trial.suggest_int('d_encoding', 32, 64),\n",
    "    },\n",
    "    'd_num':trial.suggest_int('d_encoding', 32, 64),\n",
    "    'd_cat':None,\n",
    "    'dropout_input':trial.suggest_float('dropout_input', 0.0, 0.3),\n",
    "    'backbone_name':'ResNet',\n",
    "    'backbone_params':{\n",
    "        'd_main':trial.suggest_int('d_main', 64, 128),\n",
    "        'n_blocks':1,\n",
    "        'dropout_first':trial.suggest_float('dropout_first', 0.0, 0.3),\n",
    "        'dropout_second':0.0,\n",
    "    }\n",
    "    }\n",
    "    model_params['backbone_params']['d_hidden'] \\\n",
    "        = int(model_params['backbone_params']['d_main']*trial.suggest_float('d_hidden_factor', 2, 5))\n",
    "    optimizer_params = {\n",
    "        'weight_decay':trial.suggest_float('weight_decay', 1e-2, 3e-1, log = True),\n",
    "        'betas':(0.9, 0.98),\n",
    "    }\n",
    "    batch_size = 256\n",
    "    epochs = 60\n",
    "    scheduler_params = {\n",
    "        'total_steps':int(np.floor(len(X_dict['train'])/batch_size)*epochs),\n",
    "        'max_lr':trial.suggest_float('max_lr', 1e-3, 3e-2, log = True),\n",
    "        'pct_start':trial.suggest_float('pct_start', 0.3, 0.7),\n",
    "        'anneal_strategy':'linear',\n",
    "        'cycle_momentum':True,\n",
    "        'base_momentum':0.85,\n",
    "        'max_momentum':0.9,\n",
    "        'div_factor':trial.suggest_float('div_factor', 5, 20),\n",
    "        'final_div_factor':trial.suggest_float('final_div_factor', 5, 20),\n",
    "    }\n",
    "    hyperparameters = {\n",
    "        'model_params':model_params,\n",
    "        'optimizer_params':optimizer_params,\n",
    "        'task_type':task,\n",
    "        'batch_size':batch_size,\n",
    "        'epochs':epochs,\n",
    "        'seed':seed,\n",
    "        'scheduler_name':'OneCycleLR',\n",
    "        'scheduler_params':scheduler_params,\n",
    "    }\n",
    "    return hyperparameters\n",
    "\n",
    "def objective(trial):\n",
    "    tracker = nntd.ProgressTracker(15, val_dataset, val_metric = val_metric)\n",
    "    pipeline = nntd.FeatureEmbeddingPipeline(**params_from_trial(trial), training_device = training_device)\n",
    "    pipeline.train(train_dataset, tracker = tracker)\n",
    "    return tracker.score\n",
    "\n",
    "#Uncomment to run hyperparameter optimization\n",
    "#study = optuna.create_study(direction='minimize', study_name='ResNet_PLE')\n",
    "#study.optimize(objective, n_trials=100)\n",
    "#nn_hyperparameters = params_from_trial(study.best_trial)\n",
    "with open(nn_hyperparameters_path, 'r') as file:\n",
    "    nn_hyperparameters = json.load(file)\n",
    "nn_hyperparameters['augmentation_params'] = {'p_nan':[0.15]*6+[0, 0]}"
   ]
  },
  {
   "cell_type": "markdown",
   "id": "c403fc8b-d56a-472f-aece-104e1fc48cbf",
   "metadata": {
    "id": "c403fc8b-d56a-472f-aece-104e1fc48cbf"
   },
   "source": [
    "### Optimized Run"
   ]
  },
  {
   "cell_type": "code",
   "execution_count": 14,
   "id": "72371ac1-a5e8-462e-ad32-bb20ff0bd453",
   "metadata": {
    "colab": {
     "base_uri": "https://localhost:8080/"
    },
    "executionInfo": {
     "elapsed": 1250042,
     "status": "ok",
     "timestamp": 1677207520223,
     "user": {
      "displayName": "David MacNeill",
      "userId": "16000624551933406948"
     },
     "user_tz": 300
    },
    "id": "72371ac1-a5e8-462e-ad32-bb20ff0bd453",
    "outputId": "51d33c4b-1c35-4639-f472-250bdeabbaae"
   },
   "outputs": [
    {
     "name": "stdout",
     "output_type": "stream",
     "text": [
      "Epoch 15: 0.2528\n",
      "Epoch 30: 0.2075\n",
      "Epoch 45: 0.1832\n",
      "Epoch 60: 0.1582\n",
      "Validation Loss: 0.4498576\n"
     ]
    }
   ],
   "source": [
    "tracker = nntd.ProgressTracker(15, val_dataset, val_metric = val_metric, verbose = True)\n",
    "pipeline = nntd.FeatureEmbeddingPipeline(**nn_hyperparameters, training_device = training_device)\n",
    "pipeline.train(train_dataset, tracker = tracker)\n",
    "score = display_metric(y_dict['val'], pipeline.predict(val_dataset.X))\n",
    "print(f'Validation Loss:', score)"
   ]
  },
  {
   "cell_type": "code",
   "execution_count": 15,
   "id": "5fec0cf3-2448-40e8-8a3a-1fe044664ff5",
   "metadata": {
    "colab": {
     "base_uri": "https://localhost:8080/",
     "height": 279
    },
    "executionInfo": {
     "elapsed": 460,
     "status": "ok",
     "timestamp": 1677207520659,
     "user": {
      "displayName": "David MacNeill",
      "userId": "16000624551933406948"
     },
     "user_tz": 300
    },
    "id": "5fec0cf3-2448-40e8-8a3a-1fe044664ff5",
    "outputId": "8e356683-a5ff-470c-ca19-9713b2700164"
   },
   "outputs": [
    {
     "data": {
      "image/png": "[encoded data removed]",
      "text/plain": [
       "<Figure size 640x480 with 1 Axes>"
      ]
     },
     "metadata": {},
     "output_type": "display_data"
    }
   ],
   "source": [
    "tracker.plot_losses()"
   ]
  },
  {
   "cell_type": "markdown",
   "id": "20e80ec5-05a8-44b2-a792-ac6ce27d5081",
   "metadata": {
    "id": "20e80ec5-05a8-44b2-a792-ac6ce27d5081"
   },
   "source": [
    "### Test set evaluation"
   ]
  },
  {
   "cell_type": "code",
   "execution_count": 16,
   "id": "_UdWEphy3HQG",
   "metadata": {
    "id": "_UdWEphy3HQG"
   },
   "outputs": [
    {
     "name": "stdout",
     "output_type": "stream",
     "text": [
      "XGBoost 0.4592323\n",
      "NN 0.45234123\n",
      "Naive Ensemble 0.44119498\n"
     ]
    }
   ],
   "source": [
    "yhat_test_nn =  pipeline.predict(test_dataset.X)\n",
    "yhat_test_xgb =  bst.predict(d_dict['test'])\n",
    "print('XGBoost', display_metric(y_dict['test'], yhat_test_xgb))\n",
    "print('NN', display_metric(y_dict['test'], yhat_test_nn))\n",
    "print('Naive Ensemble', display_metric(y_dict['test'], 0.5*(yhat_test_nn+yhat_test_xgb)))"
   ]
  },
  {
   "cell_type": "markdown",
   "id": "50407cad-b3e1-4233-879a-2fd03c4b4e26",
   "metadata": {
    "id": "50407cad-b3e1-4233-879a-2fd03c4b4e26"
   },
   "source": [
    "### Multi-seed test-set evaluation"
   ]
  },
  {
   "cell_type": "code",
   "execution_count": 17,
   "id": "1a0ea4fa-5477-479f-b89e-eca5bd0a89bd",
   "metadata": {
    "id": "1a0ea4fa-5477-479f-b89e-eca5bd0a89bd"
   },
   "outputs": [],
   "source": [
    "rng = np.random.default_rng(seed = seed)\n",
    "seeds = rng.integers(1, 1e6, 5)"
   ]
  },
  {
   "cell_type": "code",
   "execution_count": 18,
   "id": "0300f8ba-a420-4f77-a0ae-a6eecc7527be",
   "metadata": {
    "colab": {
     "base_uri": "https://localhost:8080/"
    },
    "executionInfo": {
     "elapsed": 1224332,
     "status": "ok",
     "timestamp": 1677208784071,
     "user": {
      "displayName": "David MacNeill",
      "userId": "16000624551933406948"
     },
     "user_tz": 300
    },
    "id": "0300f8ba-a420-4f77-a0ae-a6eecc7527be",
    "outputId": "0aafa89f-d301-4267-9cb2-9bc559b49962"
   },
   "outputs": [
    {
     "name": "stdout",
     "output_type": "stream",
     "text": [
      "NN Run 0 score:  0.4566022\n",
      "NN Run 1 score:  0.4572921\n",
      "NN Run 2 score:  0.45573536\n",
      "NN Run 3 score:  0.45496106\n",
      "NN Run 4 score:  0.45243382\n",
      "Average Score: 0.4554049\n",
      "Ensemble Score: 0.4471714496612549\n"
     ]
    }
   ],
   "source": [
    "nns = {}\n",
    "for i, new_seed in enumerate(seeds):\n",
    "    hyperparameters = deepcopy(nn_hyperparameters)\n",
    "    hyperparameters['seed'] = new_seed\n",
    "    tracker = nntd.ProgressTracker(15, val_dataset, val_metric = val_metric, verbose = False)\n",
    "    pipeline = nntd.FeatureEmbeddingPipeline(**hyperparameters, training_device = training_device)\n",
    "    pipeline.train(train_dataset, tracker = tracker)\n",
    "    predictions =  pipeline.predict(test_dataset.X)\n",
    "    nns[new_seed]={\n",
    "        'pipeline':pipeline,\n",
    "        'score':display_metric(y_dict['test'], predictions),\n",
    "        'predictions':predictions\n",
    "    }\n",
    "    print(f'NN Run {i} score: ', nns[new_seed]['score'])\n",
    "print('Average Score:', np.mean([v['score'] for k, v in nns.items()]))\n",
    "nn_ensemble_predictions = np.mean(\n",
    "    np.concatenate([v['predictions'][..., None] for k, v in nns.items()], axis = 1),\n",
    "    axis = 1,\n",
    ")\n",
    "ensemble_score = display_metric(y_dict['test'], nn_ensemble_predictions)\n",
    "print(f'Ensemble Score: {ensemble_score}')"
   ]
  },
  {
   "cell_type": "code",
   "execution_count": 19,
   "id": "AnNap7Qn8gL6",
   "metadata": {
    "id": "AnNap7Qn8gL6"
   },
   "outputs": [
    {
     "name": "stdout",
     "output_type": "stream",
     "text": [
      "XGBoost Run 0 score:  0.4618656\n",
      "XGBoost Run 1 score:  0.4599168\n",
      "XGBoost Run 2 score:  0.4599118\n",
      "XGBoost Run 3 score:  0.45870143\n",
      "XGBoost Run 4 score:  0.46205187\n",
      "Average Score: 0.4604895\n",
      "Ensemble Score: 0.4584796726703644\n"
     ]
    }
   ],
   "source": [
    "bsts = {}\n",
    "for i, new_seed in enumerate(seeds):\n",
    "    hyperparameters = deepcopy(xgb_hyperparameters)\n",
    "    hyperparameters['params']['seed'] = new_seed\n",
    "    bst = xgboost.train(\n",
    "        hyperparameters['params'],\n",
    "        d_dict['train'],\n",
    "        num_boost_round = hyperparameters['num_boost_round']\n",
    "    )\n",
    "    predictions =  bst.predict(d_dict['test'])\n",
    "    bsts[new_seed]={\n",
    "        'booster':bst,\n",
    "        'score':display_metric(y_dict['test'], predictions),\n",
    "        'predictions':predictions,\n",
    "    }\n",
    "    print(f'XGBoost Run {i} score: ', bsts[new_seed]['score'])\n",
    "print('Average Score:', np.mean([v['score'] for k, v in bsts.items()]))\n",
    "xgb_ensemble_predictions = np.mean(\n",
    "    np.concatenate([v['predictions'][..., None] for k, v in bsts.items()], axis = 1),\n",
    "    axis = 1,\n",
    ")\n",
    "ensemble_score = display_metric(y_dict['test'], xgb_ensemble_predictions)\n",
    "print(f'Ensemble Score: {ensemble_score}')"
   ]
  },
  {
   "cell_type": "code",
   "execution_count": 20,
   "id": "d62be2d3-bbc9-409d-ba14-b0252f449e89",
   "metadata": {
    "id": "d62be2d3-bbc9-409d-ba14-b0252f449e89"
   },
   "outputs": [
    {
     "data": {
      "text/plain": [
       "0.44011348"
      ]
     },
     "execution_count": 20,
     "metadata": {},
     "output_type": "execute_result"
    }
   ],
   "source": [
    "display_metric(y_dict['test'], 0.5*(nn_ensemble_predictions+xgb_ensemble_predictions))"
   ]
  }
 ],
 "metadata": {
  "accelerator": "GPU",
  "colab": {
   "provenance": []
  },
  "gpuClass": "standard",
  "kernelspec": {
   "display_name": "Python 3 (ipykernel)",
   "language": "python",
   "name": "python3"
  },
  "language_info": {
   "codemirror_mode": {
    "name": "ipython",
    "version": 3
   },
   "file_extension": ".py",
   "mimetype": "text/x-python",
   "name": "python",
   "nbconvert_exporter": "python",
   "pygments_lexer": "ipython3",
   "version": "3.10.6"
  }
 },
 "nbformat": 4,
 "nbformat_minor": 5
}
